{
 "cells": [
  {
   "cell_type": "markdown",
   "id": "b4f89d89",
   "metadata": {
    "_cell_guid": "b1076dfc-b9ad-4769-8c92-a6c4dae69d19",
    "_uuid": "8f2839f25d086af736a60e9eeb907d3b93b6e0e5",
    "id": "JVekdnyczwV0",
    "papermill": {
     "duration": 0.011596,
     "end_time": "2023-01-03T15:53:45.431324",
     "exception": false,
     "start_time": "2023-01-03T15:53:45.419728",
     "status": "completed"
    },
    "tags": []
   },
   "source": [
    "# Load dataset"
   ]
  },
  {
   "cell_type": "code",
   "execution_count": 1,
   "id": "f0119dbe",
   "metadata": {
    "execution": {
     "iopub.execute_input": "2023-01-03T15:53:45.453167Z",
     "iopub.status.busy": "2023-01-03T15:53:45.452505Z",
     "iopub.status.idle": "2023-01-03T15:53:45.503116Z",
     "shell.execute_reply": "2023-01-03T15:53:45.501898Z"
    },
    "executionInfo": {
     "elapsed": 647,
     "status": "ok",
     "timestamp": 1660204616514,
     "user": {
      "displayName": "Saddam Sinatrya Jalu Mukti",
      "userId": "05778708341325733322"
     },
     "user_tz": -420
    },
    "id": "BESInf7AzwV3",
    "outputId": "8ab53be4-fb26-43cc-8ccc-3dcd3034f222",
    "papermill": {
     "duration": 0.064876,
     "end_time": "2023-01-03T15:53:45.506102",
     "exception": false,
     "start_time": "2023-01-03T15:53:45.441226",
     "status": "completed"
    },
    "tags": []
   },
   "outputs": [
    {
     "data": {
      "text/html": [
       "<div>\n",
       "<style scoped>\n",
       "    .dataframe tbody tr th:only-of-type {\n",
       "        vertical-align: middle;\n",
       "    }\n",
       "\n",
       "    .dataframe tbody tr th {\n",
       "        vertical-align: top;\n",
       "    }\n",
       "\n",
       "    .dataframe thead th {\n",
       "        text-align: right;\n",
       "    }\n",
       "</style>\n",
       "<table border=\"1\" class=\"dataframe\">\n",
       "  <thead>\n",
       "    <tr style=\"text-align: right;\">\n",
       "      <th></th>\n",
       "      <th>no</th>\n",
       "      <th>judul</th>\n",
       "      <th>abstrak</th>\n",
       "      <th>fakultas</th>\n",
       "      <th>jurnal</th>\n",
       "    </tr>\n",
       "  </thead>\n",
       "  <tbody>\n",
       "    <tr>\n",
       "      <th>0</th>\n",
       "      <td>1</td>\n",
       "      <td>A Dynamic Study between Export from China to S...</td>\n",
       "      <td>This paper applies annual data from 1998 to 20...</td>\n",
       "      <td>FE</td>\n",
       "      <td>Jurnal Ekonomi dan Studi Pembangunan</td>\n",
       "    </tr>\n",
       "    <tr>\n",
       "      <th>1</th>\n",
       "      <td>2</td>\n",
       "      <td>A Panel Approach: How Does Government Expendit...</td>\n",
       "      <td>This study investigates the influence of gover...</td>\n",
       "      <td>FE</td>\n",
       "      <td>Jurnal Ekonomi dan Studi Pembangunan</td>\n",
       "    </tr>\n",
       "    <tr>\n",
       "      <th>2</th>\n",
       "      <td>3</td>\n",
       "      <td>Turnover Intention in Public Accountant Firms ...</td>\n",
       "      <td>This research aims to investigate empirically ...</td>\n",
       "      <td>FE</td>\n",
       "      <td>JABE (JOURNAL OF ACCOUNTING AND BUSINESS EDUCA...</td>\n",
       "    </tr>\n",
       "    <tr>\n",
       "      <th>3</th>\n",
       "      <td>4</td>\n",
       "      <td>The Factors Influencing Perceived Ease of Use ...</td>\n",
       "      <td>This research aims at analyzing the influence ...</td>\n",
       "      <td>FE</td>\n",
       "      <td>JABE (JOURNAL OF ACCOUNTING AND BUSINESS EDUCA...</td>\n",
       "    </tr>\n",
       "    <tr>\n",
       "      <th>4</th>\n",
       "      <td>5</td>\n",
       "      <td>Raising Awareness of Primary School Students' ...</td>\n",
       "      <td>Respect contributes to restraining the frequen...</td>\n",
       "      <td>FIP</td>\n",
       "      <td>Buletin Konseling Inovatif</td>\n",
       "    </tr>\n",
       "  </tbody>\n",
       "</table>\n",
       "</div>"
      ],
      "text/plain": [
       "   no                                              judul  \\\n",
       "0   1  A Dynamic Study between Export from China to S...   \n",
       "1   2  A Panel Approach: How Does Government Expendit...   \n",
       "2   3  Turnover Intention in Public Accountant Firms ...   \n",
       "3   4  The Factors Influencing Perceived Ease of Use ...   \n",
       "4   5  Raising Awareness of Primary School Students' ...   \n",
       "\n",
       "                                             abstrak fakultas  \\\n",
       "0  This paper applies annual data from 1998 to 20...       FE   \n",
       "1  This study investigates the influence of gover...       FE   \n",
       "2  This research aims to investigate empirically ...       FE   \n",
       "3  This research aims at analyzing the influence ...       FE   \n",
       "4  Respect contributes to restraining the frequen...      FIP   \n",
       "\n",
       "                                              jurnal  \n",
       "0               Jurnal Ekonomi dan Studi Pembangunan  \n",
       "1               Jurnal Ekonomi dan Studi Pembangunan  \n",
       "2  JABE (JOURNAL OF ACCOUNTING AND BUSINESS EDUCA...  \n",
       "3  JABE (JOURNAL OF ACCOUNTING AND BUSINESS EDUCA...  \n",
       "4                         Buletin Konseling Inovatif  "
      ]
     },
     "execution_count": 1,
     "metadata": {},
     "output_type": "execute_result"
    }
   ],
   "source": [
    "import pandas as pd\n",
    "from tqdm import tqdm\n",
    "\n",
    "tqdm.pandas()\n",
    "\n",
    "df = pd.read_csv('/kaggle/input/rekomendasi-jurnal/data.csv')\n",
    "df.head()"
   ]
  },
  {
   "cell_type": "markdown",
   "id": "ed2a1745",
   "metadata": {
    "id": "d7LUoiZdzwV4",
    "papermill": {
     "duration": 0.0097,
     "end_time": "2023-01-03T15:53:45.528381",
     "exception": false,
     "start_time": "2023-01-03T15:53:45.518681",
     "status": "completed"
    },
    "tags": []
   },
   "source": [
    "## Analysis"
   ]
  },
  {
   "cell_type": "code",
   "execution_count": 2,
   "id": "40373ae5",
   "metadata": {
    "execution": {
     "iopub.execute_input": "2023-01-03T15:53:45.549894Z",
     "iopub.status.busy": "2023-01-03T15:53:45.549478Z",
     "iopub.status.idle": "2023-01-03T15:53:45.564239Z",
     "shell.execute_reply": "2023-01-03T15:53:45.563143Z"
    },
    "executionInfo": {
     "elapsed": 8,
     "status": "ok",
     "timestamp": 1660204616514,
     "user": {
      "displayName": "Saddam Sinatrya Jalu Mukti",
      "userId": "05778708341325733322"
     },
     "user_tz": -420
    },
    "id": "ms7TE6nFzwV4",
    "outputId": "7777005d-b108-4e2d-dd56-15b3ba3f636c",
    "papermill": {
     "duration": 0.027935,
     "end_time": "2023-01-03T15:53:45.566275",
     "exception": false,
     "start_time": "2023-01-03T15:53:45.538340",
     "status": "completed"
    },
    "tags": []
   },
   "outputs": [
    {
     "data": {
      "text/plain": [
       "Jurnal Ekonomi dan Studi Pembangunan                   6\n",
       "JABE (JOURNAL OF ACCOUNTING AND BUSINESS EDUCATION)    6\n",
       "Buletin Konseling Inovatif                             2\n",
       "Jurnal Kajian Matematika dan Aplikasinya (JKMA)        2\n",
       "JURNAL TEKNIK MESIN DAN PEMBELAJARAN                   2\n",
       "Jurnal Pendidikan Sejarah Indonesia                    2\n",
       "Name: jurnal, dtype: int64"
      ]
     },
     "execution_count": 2,
     "metadata": {},
     "output_type": "execute_result"
    }
   ],
   "source": [
    "# Total rows in each category\n",
    "df['jurnal'].value_counts()"
   ]
  },
  {
   "cell_type": "code",
   "execution_count": 3,
   "id": "bf6b27fe",
   "metadata": {
    "execution": {
     "iopub.execute_input": "2023-01-03T15:53:45.588040Z",
     "iopub.status.busy": "2023-01-03T15:53:45.587646Z",
     "iopub.status.idle": "2023-01-03T15:53:45.602555Z",
     "shell.execute_reply": "2023-01-03T15:53:45.601540Z"
    },
    "executionInfo": {
     "elapsed": 7,
     "status": "ok",
     "timestamp": 1660204616514,
     "user": {
      "displayName": "Saddam Sinatrya Jalu Mukti",
      "userId": "05778708341325733322"
     },
     "user_tz": -420
    },
    "id": "E-BKotJYzwV5",
    "outputId": "1542a6d8-cfc5-45b1-db7a-f35211a3cfb8",
    "papermill": {
     "duration": 0.028003,
     "end_time": "2023-01-03T15:53:45.604434",
     "exception": false,
     "start_time": "2023-01-03T15:53:45.576431",
     "status": "completed"
    },
    "tags": []
   },
   "outputs": [
    {
     "data": {
      "text/plain": [
       "jurnal\n",
       "Buletin Konseling Inovatif                             12.0\n",
       "JABE (JOURNAL OF ACCOUNTING AND BUSINESS EDUCATION)    11.0\n",
       "JURNAL TEKNIK MESIN DAN PEMBELAJARAN                   16.5\n",
       "Jurnal Ekonomi dan Studi Pembangunan                   13.5\n",
       "Jurnal Kajian Matematika dan Aplikasinya (JKMA)        13.5\n",
       "Jurnal Pendidikan Sejarah Indonesia                    14.0\n",
       "Name: word_count, dtype: float64"
      ]
     },
     "execution_count": 3,
     "metadata": {},
     "output_type": "execute_result"
    }
   ],
   "source": [
    "# Get average words in each category\n",
    "df['word_count'] = df['judul'].apply(lambda x: len(x.split()))\n",
    "df.groupby('jurnal')['word_count'].mean()"
   ]
  },
  {
   "cell_type": "code",
   "execution_count": 4,
   "id": "eca908ed",
   "metadata": {
    "execution": {
     "iopub.execute_input": "2023-01-03T15:53:45.626467Z",
     "iopub.status.busy": "2023-01-03T15:53:45.626090Z",
     "iopub.status.idle": "2023-01-03T15:53:45.636988Z",
     "shell.execute_reply": "2023-01-03T15:53:45.635987Z"
    },
    "executionInfo": {
     "elapsed": 8,
     "status": "ok",
     "timestamp": 1660204616515,
     "user": {
      "displayName": "Saddam Sinatrya Jalu Mukti",
      "userId": "05778708341325733322"
     },
     "user_tz": -420
    },
    "id": "bwPuYp26zwV5",
    "outputId": "c204c71a-1208-4788-98e8-270a42c98dc6",
    "papermill": {
     "duration": 0.024329,
     "end_time": "2023-01-03T15:53:45.639108",
     "exception": false,
     "start_time": "2023-01-03T15:53:45.614779",
     "status": "completed"
    },
    "tags": []
   },
   "outputs": [
    {
     "data": {
      "text/plain": [
       "jurnal\n",
       "Buletin Konseling Inovatif                              97.500000\n",
       "JABE (JOURNAL OF ACCOUNTING AND BUSINESS EDUCATION)     83.833333\n",
       "JURNAL TEKNIK MESIN DAN PEMBELAJARAN                   114.500000\n",
       "Jurnal Ekonomi dan Studi Pembangunan                    93.000000\n",
       "Jurnal Kajian Matematika dan Aplikasinya (JKMA)         98.500000\n",
       "Jurnal Pendidikan Sejarah Indonesia                    102.500000\n",
       "Name: char_count, dtype: float64"
      ]
     },
     "execution_count": 4,
     "metadata": {},
     "output_type": "execute_result"
    }
   ],
   "source": [
    "# Get average characters in each category\n",
    "df['char_count'] = df['judul'].apply(lambda x: len(str(x)))\n",
    "df.groupby('jurnal')['char_count'].mean()"
   ]
  },
  {
   "cell_type": "code",
   "execution_count": 5,
   "id": "c900335d",
   "metadata": {
    "execution": {
     "iopub.execute_input": "2023-01-03T15:53:45.661432Z",
     "iopub.status.busy": "2023-01-03T15:53:45.661052Z",
     "iopub.status.idle": "2023-01-03T15:53:45.672681Z",
     "shell.execute_reply": "2023-01-03T15:53:45.671623Z"
    },
    "executionInfo": {
     "elapsed": 8,
     "status": "ok",
     "timestamp": 1660204616515,
     "user": {
      "displayName": "Saddam Sinatrya Jalu Mukti",
      "userId": "05778708341325733322"
     },
     "user_tz": -420
    },
    "id": "6Pz6PjmAzwV5",
    "outputId": "12a80c6a-12ae-4746-af59-26dba91bc84d",
    "papermill": {
     "duration": 0.025389,
     "end_time": "2023-01-03T15:53:45.674939",
     "exception": false,
     "start_time": "2023-01-03T15:53:45.649550",
     "status": "completed"
    },
    "tags": []
   },
   "outputs": [
    {
     "data": {
      "text/html": [
       "<div>\n",
       "<style scoped>\n",
       "    .dataframe tbody tr th:only-of-type {\n",
       "        vertical-align: middle;\n",
       "    }\n",
       "\n",
       "    .dataframe tbody tr th {\n",
       "        vertical-align: top;\n",
       "    }\n",
       "\n",
       "    .dataframe thead th {\n",
       "        text-align: right;\n",
       "    }\n",
       "</style>\n",
       "<table border=\"1\" class=\"dataframe\">\n",
       "  <thead>\n",
       "    <tr style=\"text-align: right;\">\n",
       "      <th></th>\n",
       "      <th>no</th>\n",
       "      <th>judul</th>\n",
       "      <th>abstrak</th>\n",
       "      <th>fakultas</th>\n",
       "      <th>jurnal</th>\n",
       "      <th>word_count</th>\n",
       "      <th>char_count</th>\n",
       "    </tr>\n",
       "  </thead>\n",
       "  <tbody>\n",
       "  </tbody>\n",
       "</table>\n",
       "</div>"
      ],
      "text/plain": [
       "Empty DataFrame\n",
       "Columns: [no, judul, abstrak, fakultas, jurnal, word_count, char_count]\n",
       "Index: []"
      ]
     },
     "execution_count": 5,
     "metadata": {},
     "output_type": "execute_result"
    }
   ],
   "source": [
    "# Is there any duplicated rows?\n",
    "df[df['judul'].duplicated()]"
   ]
  },
  {
   "cell_type": "markdown",
   "id": "b8ad1f41",
   "metadata": {
    "id": "vqsRucDKzwV6",
    "papermill": {
     "duration": 0.010348,
     "end_time": "2023-01-03T15:53:45.696128",
     "exception": false,
     "start_time": "2023-01-03T15:53:45.685780",
     "status": "completed"
    },
    "tags": []
   },
   "source": [
    "# Preprocessing"
   ]
  },
  {
   "cell_type": "code",
   "execution_count": 6,
   "id": "14876a26",
   "metadata": {
    "execution": {
     "iopub.execute_input": "2023-01-03T15:53:45.719037Z",
     "iopub.status.busy": "2023-01-03T15:53:45.718627Z",
     "iopub.status.idle": "2023-01-03T15:53:58.649779Z",
     "shell.execute_reply": "2023-01-03T15:53:58.648366Z"
    },
    "executionInfo": {
     "elapsed": 4254,
     "status": "ok",
     "timestamp": 1660210355561,
     "user": {
      "displayName": "Saddam Sinatrya Jalu Mukti",
      "userId": "05778708341325733322"
     },
     "user_tz": -420
    },
    "id": "GwSCxyn6P11q",
    "outputId": "2d69f6ae-c0c0-4943-8dd9-2ef9a78aa6ec",
    "papermill": {
     "duration": 12.945881,
     "end_time": "2023-01-03T15:53:58.652728",
     "exception": false,
     "start_time": "2023-01-03T15:53:45.706847",
     "status": "completed"
    },
    "tags": []
   },
   "outputs": [
    {
     "name": "stdout",
     "output_type": "stream",
     "text": [
      "\u001b[33mWARNING: Running pip as the 'root' user can result in broken permissions and conflicting behaviour with the system package manager. It is recommended to use a virtual environment instead: https://pip.pypa.io/warnings/venv\u001b[0m\u001b[33m\r\n",
      "\u001b[0m"
     ]
    }
   ],
   "source": [
    "!pip install Sastrawi --quiet"
   ]
  },
  {
   "cell_type": "code",
   "execution_count": 7,
   "id": "fa4d4338",
   "metadata": {
    "execution": {
     "iopub.execute_input": "2023-01-03T15:53:58.678815Z",
     "iopub.status.busy": "2023-01-03T15:53:58.678356Z",
     "iopub.status.idle": "2023-01-03T15:54:00.691476Z",
     "shell.execute_reply": "2023-01-03T15:54:00.690665Z"
    },
    "executionInfo": {
     "elapsed": 2,
     "status": "ok",
     "timestamp": 1660207044885,
     "user": {
      "displayName": "Saddam Sinatrya Jalu Mukti",
      "userId": "05778708341325733322"
     },
     "user_tz": -420
    },
    "id": "gMRRCfUY1Fxw",
    "outputId": "cb88e258-d896-47d1-c640-4688d5ad5551",
    "papermill": {
     "duration": 2.028435,
     "end_time": "2023-01-03T15:54:00.694084",
     "exception": false,
     "start_time": "2023-01-03T15:53:58.665649",
     "status": "completed"
    },
    "tags": []
   },
   "outputs": [
    {
     "name": "stderr",
     "output_type": "stream",
     "text": [
      "[nltk_data] Downloading package punkt to /usr/share/nltk_data...\n",
      "[nltk_data]   Package punkt is already up-to-date!\n",
      "[nltk_data] Downloading package stopwords to /usr/share/nltk_data...\n",
      "[nltk_data]   Package stopwords is already up-to-date!\n",
      "[nltk_data] Downloading package wordnet to /usr/share/nltk_data...\n",
      "[nltk_data]   Package wordnet is already up-to-date!\n",
      "[nltk_data] Downloading package omw-1.4 to /usr/share/nltk_data...\n"
     ]
    },
    {
     "name": "stdout",
     "output_type": "stream",
     "text": [
      "Completed\n"
     ]
    }
   ],
   "source": [
    "import nltk\n",
    "\n",
    "# Tokenizing\n",
    "nltk.download('punkt')\n",
    "# Stopwords removal\n",
    "nltk.download('stopwords')\n",
    "# Lemmatizer\n",
    "nltk.download('wordnet')\n",
    "nltk.download('omw-1.4')\n",
    "\n",
    "print('Completed')"
   ]
  },
  {
   "cell_type": "markdown",
   "id": "5b3b1ae6",
   "metadata": {
    "id": "Xy5QtmQxzwV8",
    "papermill": {
     "duration": 0.011951,
     "end_time": "2023-01-03T15:54:00.717071",
     "exception": false,
     "start_time": "2023-01-03T15:54:00.705120",
     "status": "completed"
    },
    "tags": []
   },
   "source": [
    "## Remove duplicates"
   ]
  },
  {
   "cell_type": "code",
   "execution_count": 8,
   "id": "fe9b9b0a",
   "metadata": {
    "execution": {
     "iopub.execute_input": "2023-01-03T15:54:00.740682Z",
     "iopub.status.busy": "2023-01-03T15:54:00.740249Z",
     "iopub.status.idle": "2023-01-03T15:54:00.751043Z",
     "shell.execute_reply": "2023-01-03T15:54:00.750036Z"
    },
    "executionInfo": {
     "elapsed": 5,
     "status": "ok",
     "timestamp": 1660204618059,
     "user": {
      "displayName": "Saddam Sinatrya Jalu Mukti",
      "userId": "05778708341325733322"
     },
     "user_tz": -420
    },
    "id": "AAT1AaDAzwV8",
    "outputId": "106d71cd-1600-4b08-c8e8-d8f16fc94306",
    "papermill": {
     "duration": 0.025287,
     "end_time": "2023-01-03T15:54:00.753185",
     "exception": false,
     "start_time": "2023-01-03T15:54:00.727898",
     "status": "completed"
    },
    "tags": []
   },
   "outputs": [
    {
     "data": {
      "text/plain": [
       "0     A Dynamic Study between Export from China to S...\n",
       "1     A Panel Approach: How Does Government Expendit...\n",
       "2     Turnover Intention in Public Accountant Firms ...\n",
       "3     The Factors Influencing Perceived Ease of Use ...\n",
       "4     Raising Awareness of Primary School Students' ...\n",
       "5     Panduan Konseling dengan Teknik Coping Self-Ta...\n",
       "6     MULTI-INPUT TRANSFER FUNCTION MODEL IN FORECAS...\n",
       "7     TWO PHASE HEURISTIC ALGORITHM (TPHA) ON MULTIP...\n",
       "8     STUDY OF MANAGEMENT OF COMPETENCY TEST EXPERTI...\n",
       "9     HAZARDS OF WELDING LIGHT SMOKE AND RADIATION T...\n",
       "10    Education on History and Character of the Nati...\n",
       "11    Reflection of Local Culture \"Philosophical Mea...\n",
       "12    The Effect of Investment Toward Economic Growt...\n",
       "13    Testing Weak Form Market Efficiency and its Im...\n",
       "14    Relationship Between Growth and Unemployment i...\n",
       "15    The Determinants of Income Inequality in Europ...\n",
       "16    Client’s Effort in Intervening State’s Financi...\n",
       "17    Individualized Excel-Based Exams to Prevent St...\n",
       "18    Peer Tutoring as A Best Practice of Accounting...\n",
       "19    Does Student Satisfaction Mediate the Correlat...\n",
       "Name: judul, dtype: object"
      ]
     },
     "execution_count": 8,
     "metadata": {},
     "output_type": "execute_result"
    }
   ],
   "source": [
    "df.drop(df[df['judul'].duplicated()].index, inplace=True)\n",
    "df['judul']"
   ]
  },
  {
   "cell_type": "markdown",
   "id": "9e241a58",
   "metadata": {
    "id": "bNkD-UqkzwV8",
    "papermill": {
     "duration": 0.010774,
     "end_time": "2023-01-03T15:54:00.775011",
     "exception": false,
     "start_time": "2023-01-03T15:54:00.764237",
     "status": "completed"
    },
    "tags": []
   },
   "source": [
    "## Cleaning text"
   ]
  },
  {
   "cell_type": "code",
   "execution_count": 9,
   "id": "cc527fc1",
   "metadata": {
    "execution": {
     "iopub.execute_input": "2023-01-03T15:54:00.798561Z",
     "iopub.status.busy": "2023-01-03T15:54:00.798185Z",
     "iopub.status.idle": "2023-01-03T15:54:00.820372Z",
     "shell.execute_reply": "2023-01-03T15:54:00.818840Z"
    },
    "executionInfo": {
     "elapsed": 903,
     "status": "ok",
     "timestamp": 1660209743454,
     "user": {
      "displayName": "Saddam Sinatrya Jalu Mukti",
      "userId": "05778708341325733322"
     },
     "user_tz": -420
    },
    "id": "b8DjMcMCzwV9",
    "outputId": "34c5280c-c5d9-4512-8394-d81072ade69c",
    "papermill": {
     "duration": 0.036732,
     "end_time": "2023-01-03T15:54:00.822694",
     "exception": false,
     "start_time": "2023-01-03T15:54:00.785962",
     "status": "completed"
    },
    "tags": []
   },
   "outputs": [
    {
     "name": "stderr",
     "output_type": "stream",
     "text": [
      "100%|██████████| 20/20 [00:00<00:00, 8461.38it/s]\n"
     ]
    },
    {
     "data": {
      "text/plain": [
       "0     a dynamic study between export from china to s...\n",
       "1     a panel approach how does government expenditu...\n",
       "2     turnover intention in public accountant firms ...\n",
       "3     the factors influencing perceived ease of use ...\n",
       "4     raising awareness of primary school students r...\n",
       "5     panduan konseling dengan teknik coping self ta...\n",
       "6     multi input transfer function model in forecas...\n",
       "7     two phase heuristic algorithm tpha on multiple...\n",
       "8     study of management of competency test experti...\n",
       "9     hazards of welding light smoke and radiation t...\n",
       "10    education on history and character of the nati...\n",
       "11    reflection of local culture philosophical mean...\n",
       "12    the effect of investment toward economic growt...\n",
       "13    testing weak form market efficiency and its im...\n",
       "14    relationship between growth and unemployment i...\n",
       "15    the determinants of income inequality in europ...\n",
       "16    clients effort in intervening states financial...\n",
       "17    individualized excel based exams to prevent st...\n",
       "18    peer tutoring as a best practice of accounting...\n",
       "19    does student satisfaction mediate the correlat...\n",
       "Name: clean, dtype: object"
      ]
     },
     "execution_count": 9,
     "metadata": {},
     "output_type": "execute_result"
    }
   ],
   "source": [
    "import re, string\n",
    "\n",
    "# Cleaning\n",
    "def cleaning(text):\n",
    "  # Case folding\n",
    "  text = text.lower() \n",
    "  # Trim text\n",
    "  text = text.strip()\n",
    "  # Remove punctuations, special characters, and double whitespace\n",
    "  text = re.compile('<.*?>').sub('', text) \n",
    "  text = re.compile('[%s]' % re.escape(string.punctuation)).sub(' ', text)\n",
    "  text = re.sub('\\s+', ' ', text)\n",
    "  # Number removal\n",
    "  text = re.sub(r'\\[[0-9]*\\]', ' ', text) \n",
    "  text = re.sub(r'[^\\w\\s]', '', str(text).lower().strip())\n",
    "  # Remove number and whitespaces\n",
    "  text = re.sub(r'\\d', ' ', text)\n",
    "  text = re.sub(r'\\s+', ' ', text)\n",
    "\n",
    "  return text\n",
    "\n",
    "df['clean'] = df['judul'].progress_apply(lambda x: cleaning(x))\n",
    "df['clean']"
   ]
  },
  {
   "cell_type": "markdown",
   "id": "4401f223",
   "metadata": {
    "id": "7IAWR-WZzwV9",
    "papermill": {
     "duration": 0.011828,
     "end_time": "2023-01-03T15:54:00.846059",
     "exception": false,
     "start_time": "2023-01-03T15:54:00.834231",
     "status": "completed"
    },
    "tags": []
   },
   "source": [
    "## Tokenizing\n",
    "Convert word into tokens<br>\n",
    "'I love burger' --> ['I', 'love', 'burger']"
   ]
  },
  {
   "cell_type": "code",
   "execution_count": 10,
   "id": "b70491cc",
   "metadata": {
    "execution": {
     "iopub.execute_input": "2023-01-03T15:54:00.871334Z",
     "iopub.status.busy": "2023-01-03T15:54:00.870376Z",
     "iopub.status.idle": "2023-01-03T15:54:00.902605Z",
     "shell.execute_reply": "2023-01-03T15:54:00.901522Z"
    },
    "executionInfo": {
     "elapsed": 4876,
     "status": "ok",
     "timestamp": 1660209750848,
     "user": {
      "displayName": "Saddam Sinatrya Jalu Mukti",
      "userId": "05778708341325733322"
     },
     "user_tz": -420
    },
    "id": "KcHoCljXzwV9",
    "outputId": "404e4660-59dd-4ba2-c7cc-42a36aa574df",
    "papermill": {
     "duration": 0.048617,
     "end_time": "2023-01-03T15:54:00.906085",
     "exception": false,
     "start_time": "2023-01-03T15:54:00.857468",
     "status": "completed"
    },
    "tags": []
   },
   "outputs": [
    {
     "name": "stderr",
     "output_type": "stream",
     "text": [
      "100%|██████████| 20/20 [00:00<00:00, 1192.05it/s]\n"
     ]
    },
    {
     "data": {
      "text/plain": [
       "0     [a, dynamic, study, between, export, from, chi...\n",
       "1     [a, panel, approach, how, does, government, ex...\n",
       "2     [turnover, intention, in, public, accountant, ...\n",
       "3     [the, factors, influencing, perceived, ease, o...\n",
       "4     [raising, awareness, of, primary, school, stud...\n",
       "5     [panduan, konseling, dengan, teknik, coping, s...\n",
       "6     [multi, input, transfer, function, model, in, ...\n",
       "7     [two, phase, heuristic, algorithm, tpha, on, m...\n",
       "8     [study, of, management, of, competency, test, ...\n",
       "9     [hazards, of, welding, light, smoke, and, radi...\n",
       "10    [education, on, history, and, character, of, t...\n",
       "11    [reflection, of, local, culture, philosophical...\n",
       "12    [the, effect, of, investment, toward, economic...\n",
       "13    [testing, weak, form, market, efficiency, and,...\n",
       "14    [relationship, between, growth, and, unemploym...\n",
       "15    [the, determinants, of, income, inequality, in...\n",
       "16    [clients, effort, in, intervening, states, fin...\n",
       "17    [individualized, excel, based, exams, to, prev...\n",
       "18    [peer, tutoring, as, a, best, practice, of, ac...\n",
       "19    [does, student, satisfaction, mediate, the, co...\n",
       "Name: tokens, dtype: object"
      ]
     },
     "execution_count": 10,
     "metadata": {},
     "output_type": "execute_result"
    }
   ],
   "source": [
    "from nltk.tokenize import word_tokenize\n",
    "\n",
    "df['tokens'] = df['clean'].progress_apply(lambda x: word_tokenize(x))\n",
    "df['tokens']"
   ]
  },
  {
   "cell_type": "markdown",
   "id": "bee42271",
   "metadata": {
    "id": "HMx5_qb63RiR",
    "papermill": {
     "duration": 0.011392,
     "end_time": "2023-01-03T15:54:00.929396",
     "exception": false,
     "start_time": "2023-01-03T15:54:00.918004",
     "status": "completed"
    },
    "tags": []
   },
   "source": [
    "## Stopwords removal\n",
    "Remove stopwords from tokens"
   ]
  },
  {
   "cell_type": "code",
   "execution_count": 11,
   "id": "29534fa6",
   "metadata": {
    "execution": {
     "iopub.execute_input": "2023-01-03T15:54:00.954487Z",
     "iopub.status.busy": "2023-01-03T15:54:00.954110Z",
     "iopub.status.idle": "2023-01-03T15:54:00.974312Z",
     "shell.execute_reply": "2023-01-03T15:54:00.973451Z"
    },
    "executionInfo": {
     "elapsed": 575,
     "status": "ok",
     "timestamp": 1660209751419,
     "user": {
      "displayName": "Saddam Sinatrya Jalu Mukti",
      "userId": "05778708341325733322"
     },
     "user_tz": -420
    },
    "id": "oaEKl6f43UFx",
    "outputId": "11cbcbc4-c0ea-4914-ef1d-5b562a9f4fd6",
    "papermill": {
     "duration": 0.035247,
     "end_time": "2023-01-03T15:54:00.976330",
     "exception": false,
     "start_time": "2023-01-03T15:54:00.941083",
     "status": "completed"
    },
    "tags": []
   },
   "outputs": [
    {
     "name": "stderr",
     "output_type": "stream",
     "text": [
      "100%|██████████| 20/20 [00:00<00:00, 26681.32it/s]\n"
     ]
    },
    {
     "data": {
      "text/plain": [
       "0     [dynamic, study, export, china, south, korea, ...\n",
       "1     [panel, approach, government, expenditure, inf...\n",
       "2     [turnover, intention, public, accountant, firm...\n",
       "3     [factors, influencing, perceived, ease, use, e...\n",
       "4     [raising, awareness, primary, school, students...\n",
       "5     [panduan, konseling, teknik, coping, self, tal...\n",
       "6     [multi, input, transfer, function, model, fore...\n",
       "7     [two, phase, heuristic, algorithm, tpha, multi...\n",
       "8     [study, management, competency, test, expertis...\n",
       "9     [hazards, welding, light, smoke, radiation, we...\n",
       "10    [education, history, character, nation, introd...\n",
       "11    [reflection, local, culture, philosophical, me...\n",
       "12    [effect, investment, toward, economic, growth,...\n",
       "13    [testing, weak, form, market, efficiency, impa...\n",
       "14    [relationship, growth, unemployment, petroleum...\n",
       "15    [determinants, income, inequality, europe, tra...\n",
       "16    [clients, effort, intervening, states, financi...\n",
       "17    [individualized, excel, based, exams, prevent,...\n",
       "18    [peer, tutoring, best, practice, accounting, l...\n",
       "19    [student, satisfaction, mediate, correlation, ...\n",
       "Name: tokens, dtype: object"
      ]
     },
     "execution_count": 11,
     "metadata": {},
     "output_type": "execute_result"
    }
   ],
   "source": [
    "from nltk.corpus import stopwords \n",
    "from nltk.tokenize import word_tokenize\n",
    "from itertools import chain\n",
    "\n",
    "stop_words = set(chain(stopwords.words('indonesian'), stopwords.words('english')))\n",
    "\n",
    "df['tokens'] = df['tokens'].progress_apply(lambda x: [w for w in x if not w in stop_words])\n",
    "df['tokens']"
   ]
  },
  {
   "cell_type": "markdown",
   "id": "aec68b98",
   "metadata": {
    "id": "GA-MIRGkCw_-",
    "papermill": {
     "duration": 0.011996,
     "end_time": "2023-01-03T15:54:01.000403",
     "exception": false,
     "start_time": "2023-01-03T15:54:00.988407",
     "status": "completed"
    },
    "tags": []
   },
   "source": [
    "## Stem & Lemmatizer"
   ]
  },
  {
   "cell_type": "code",
   "execution_count": 12,
   "id": "2e0912a0",
   "metadata": {
    "execution": {
     "iopub.execute_input": "2023-01-03T15:54:01.026277Z",
     "iopub.status.busy": "2023-01-03T15:54:01.025707Z",
     "iopub.status.idle": "2023-01-03T15:54:23.808851Z",
     "shell.execute_reply": "2023-01-03T15:54:23.807405Z"
    },
    "executionInfo": {
     "elapsed": 2,
     "status": "ok",
     "timestamp": 1660214027675,
     "user": {
      "displayName": "Saddam Sinatrya Jalu Mukti",
      "userId": "05778708341325733322"
     },
     "user_tz": -420
    },
    "id": "vlMP4qCHPzdq",
    "outputId": "e277ff2d-fb54-4876-d0d9-55ea2907d397",
    "papermill": {
     "duration": 22.799431,
     "end_time": "2023-01-03T15:54:23.811746",
     "exception": false,
     "start_time": "2023-01-03T15:54:01.012315",
     "status": "completed"
    },
    "tags": []
   },
   "outputs": [
    {
     "name": "stderr",
     "output_type": "stream",
     "text": [
      "100%|██████████| 20/20 [00:22<00:00,  1.14s/it]\n"
     ]
    },
    {
     "data": {
      "text/plain": [
       "0     [dynamic, study, export, china, south, korea, ...\n",
       "1     [panel, approach, government, expenditure, inf...\n",
       "2     [turnover, intention, public, accountant, firm...\n",
       "3     [factors, influencing, perceived, ease, use, e...\n",
       "4     [raising, awareness, primary, school, students...\n",
       "5     [pandu, konseling, teknik, coping, self, talk,...\n",
       "6     [multi, input, transfer, function, model, fore...\n",
       "7     [two, phase, heuristic, algorithm, tpha, multi...\n",
       "8     [study, management, competency, test, expertis...\n",
       "9     [hazards, welding, light, smoke, radiation, we...\n",
       "10    [education, history, character, nation, introd...\n",
       "11    [reflection, local, culture, philosophical, me...\n",
       "12    [effect, investment, toward, economic, growth,...\n",
       "13    [testing, weak, form, market, efficiency, impa...\n",
       "14    [relationship, growth, unemployment, petroleum...\n",
       "15    [determinants, income, inequality, europe, tra...\n",
       "16    [clients, effort, intervening, states, financi...\n",
       "17    [individualized, excel, based, exams, prevent,...\n",
       "18    [peer, tutoring, best, practice, accounting, l...\n",
       "19    [student, satisfaction, mediate, correlation, ...\n",
       "Name: tokens, dtype: object"
      ]
     },
     "execution_count": 12,
     "metadata": {},
     "output_type": "execute_result"
    }
   ],
   "source": [
    "from Sastrawi.Stemmer.StemmerFactory import StemmerFactory\n",
    "\n",
    "factory = StemmerFactory()\n",
    "stemmer = factory.create_stemmer()\n",
    " \n",
    "df['tokens'] = df['tokens'].progress_apply(lambda x: stemmer.stem(' '.join(x)).split(' '))\n",
    "df['tokens']"
   ]
  },
  {
   "cell_type": "code",
   "execution_count": 13,
   "id": "3b6485b0",
   "metadata": {
    "execution": {
     "iopub.execute_input": "2023-01-03T15:54:23.841087Z",
     "iopub.status.busy": "2023-01-03T15:54:23.840723Z",
     "iopub.status.idle": "2023-01-03T15:54:25.711412Z",
     "shell.execute_reply": "2023-01-03T15:54:25.709777Z"
    },
    "papermill": {
     "duration": 1.887776,
     "end_time": "2023-01-03T15:54:25.713622",
     "exception": false,
     "start_time": "2023-01-03T15:54:23.825846",
     "status": "completed"
    },
    "tags": []
   },
   "outputs": [
    {
     "name": "stderr",
     "output_type": "stream",
     "text": [
      "100%|██████████| 20/20 [00:01<00:00, 10.79it/s]\n"
     ]
    },
    {
     "data": {
      "text/plain": [
       "0     [dynamic, study, export, china, south, korea, ...\n",
       "1     [panel, approach, government, expenditure, inf...\n",
       "2     [turnover, intention, public, accountant, firm...\n",
       "3     [factor, influencing, perceived, ease, use, e,...\n",
       "4     [raising, awareness, primary, school, student,...\n",
       "5     [pandu, konseling, teknik, coping, self, talk,...\n",
       "6     [multi, input, transfer, function, model, fore...\n",
       "7     [two, phase, heuristic, algorithm, tpha, multi...\n",
       "8     [study, management, competency, test, expertis...\n",
       "9     [hazard, welding, light, smoke, radiation, wel...\n",
       "10    [education, history, character, nation, introd...\n",
       "11    [reflection, local, culture, philosophical, me...\n",
       "12    [effect, investment, toward, economic, growth,...\n",
       "13    [testing, weak, form, market, efficiency, impa...\n",
       "14    [relationship, growth, unemployment, petroleum...\n",
       "15    [determinant, income, inequality, europe, trad...\n",
       "16    [client, effort, intervening, state, financial...\n",
       "17    [individualized, excel, based, exam, prevent, ...\n",
       "18    [peer, tutoring, best, practice, accounting, l...\n",
       "19    [student, satisfaction, mediate, correlation, ...\n",
       "Name: tokens, dtype: object"
      ]
     },
     "execution_count": 13,
     "metadata": {},
     "output_type": "execute_result"
    }
   ],
   "source": [
    "from nltk.stem import WordNetLemmatizer\n",
    "\n",
    "lemmatizer = WordNetLemmatizer()\n",
    "\n",
    "df['tokens'] = df['tokens'].progress_apply(lambda x: [lemmatizer.lemmatize(word) for word in x])\n",
    "df['tokens']"
   ]
  },
  {
   "cell_type": "markdown",
   "id": "b6639c6c",
   "metadata": {
    "id": "lcyvZCOOeu45",
    "papermill": {
     "duration": 0.013387,
     "end_time": "2023-01-03T15:54:25.740728",
     "exception": false,
     "start_time": "2023-01-03T15:54:25.727341",
     "status": "completed"
    },
    "tags": []
   },
   "source": [
    "# Split data"
   ]
  },
  {
   "cell_type": "code",
   "execution_count": 14,
   "id": "5eea32aa",
   "metadata": {
    "execution": {
     "iopub.execute_input": "2023-01-03T15:54:25.769827Z",
     "iopub.status.busy": "2023-01-03T15:54:25.769427Z",
     "iopub.status.idle": "2023-01-03T15:54:25.777515Z",
     "shell.execute_reply": "2023-01-03T15:54:25.776443Z"
    },
    "executionInfo": {
     "elapsed": 537,
     "status": "ok",
     "timestamp": 1660214833611,
     "user": {
      "displayName": "Saddam Sinatrya Jalu Mukti",
      "userId": "05778708341325733322"
     },
     "user_tz": -420
    },
    "id": "N4LVkMEIeAx4",
    "papermill": {
     "duration": 0.025297,
     "end_time": "2023-01-03T15:54:25.779634",
     "exception": false,
     "start_time": "2023-01-03T15:54:25.754337",
     "status": "completed"
    },
    "tags": []
   },
   "outputs": [],
   "source": [
    "from sklearn.model_selection import train_test_split\n",
    "\n",
    "df['joined_tokens'] = df['tokens'].apply(lambda x: ' '.join(x))\n",
    "X_train, X_test, y_train, y_test = train_test_split(df['joined_tokens'], df['jurnal'], test_size=0.3, random_state=42)"
   ]
  },
  {
   "cell_type": "markdown",
   "id": "7064bd08",
   "metadata": {
    "id": "cjPirGGgff5a",
    "papermill": {
     "duration": 0.013214,
     "end_time": "2023-01-03T15:54:25.806548",
     "exception": false,
     "start_time": "2023-01-03T15:54:25.793334",
     "status": "completed"
    },
    "tags": []
   },
   "source": [
    "# Feature extraction"
   ]
  },
  {
   "cell_type": "code",
   "execution_count": 15,
   "id": "b4b39f3e",
   "metadata": {
    "execution": {
     "iopub.execute_input": "2023-01-03T15:54:25.835399Z",
     "iopub.status.busy": "2023-01-03T15:54:25.834986Z",
     "iopub.status.idle": "2023-01-03T15:54:25.851378Z",
     "shell.execute_reply": "2023-01-03T15:54:25.849738Z"
    },
    "executionInfo": {
     "elapsed": 1775,
     "status": "ok",
     "timestamp": 1660215824686,
     "user": {
      "displayName": "Saddam Sinatrya Jalu Mukti",
      "userId": "05778708341325733322"
     },
     "user_tz": -420
    },
    "id": "xZUNtAmgfikP",
    "outputId": "f9be7f93-41f7-43f6-8533-69a115be5c22",
    "papermill": {
     "duration": 0.033776,
     "end_time": "2023-01-03T15:54:25.853794",
     "exception": false,
     "start_time": "2023-01-03T15:54:25.820018",
     "status": "completed"
    },
    "tags": []
   },
   "outputs": [
    {
     "name": "stdout",
     "output_type": "stream",
     "text": [
      "Train size:  (14, 116)\n",
      "Test size:  (6, 116)\n"
     ]
    }
   ],
   "source": [
    "from sklearn.feature_extraction.text import TfidfVectorizer\n",
    "\n",
    "tfidf_vectorizer = TfidfVectorizer(use_idf=True)\n",
    "\n",
    "X_train_vectors_tfidf = tfidf_vectorizer.fit_transform(X_train) \n",
    "X_test_vectors_tfidf = tfidf_vectorizer.transform(X_test)\n",
    "\n",
    "print('Train size: ', X_train_vectors_tfidf.shape)\n",
    "print('Test size: ', X_test_vectors_tfidf.shape)"
   ]
  },
  {
   "cell_type": "code",
   "execution_count": 16,
   "id": "db3ddfeb",
   "metadata": {
    "execution": {
     "iopub.execute_input": "2023-01-03T15:54:25.883069Z",
     "iopub.status.busy": "2023-01-03T15:54:25.882657Z",
     "iopub.status.idle": "2023-01-03T15:54:25.890276Z",
     "shell.execute_reply": "2023-01-03T15:54:25.889253Z"
    },
    "executionInfo": {
     "elapsed": 364,
     "status": "ok",
     "timestamp": 1660215669784,
     "user": {
      "displayName": "Saddam Sinatrya Jalu Mukti",
      "userId": "05778708341325733322"
     },
     "user_tz": -420
    },
    "id": "kWa4sFh0hERZ",
    "papermill": {
     "duration": 0.024743,
     "end_time": "2023-01-03T15:54:25.892278",
     "exception": false,
     "start_time": "2023-01-03T15:54:25.867535",
     "status": "completed"
    },
    "tags": []
   },
   "outputs": [
    {
     "data": {
      "text/plain": [
       "'reflection local culture philosophical meaning symbolism classical batik motif strengthening character education factor influencing perceived ease use learning accounting lecturer peer tutoring best practice vocational client effort intervening state financial audit result grounded theory approach testing weak form market efficiency impact stock valuation empirical evidence bangladesh turnover intention public accountant firm east java hazard welding light smoke radiation worker informal sector student satisfaction mediate correlation service quality academic engagement achievement raising awareness primary school respect biblioeducation effect investment toward economic growth economy two phase heuristic algorithm tpha multiple traveling salesman problem mtsp program implementation history nation introduction dialogue relationship unemployment petroleum exporting country case congo multi input transfer function model forecasting malang city hotel tax revenue'"
      ]
     },
     "execution_count": 16,
     "metadata": {},
     "output_type": "execute_result"
    }
   ],
   "source": [
    "\" \".join(tfidf_vectorizer.vocabulary_.keys())"
   ]
  },
  {
   "cell_type": "markdown",
   "id": "18f0057c",
   "metadata": {
    "id": "g10uWRmXlxdY",
    "papermill": {
     "duration": 0.013487,
     "end_time": "2023-01-03T15:54:25.919480",
     "exception": false,
     "start_time": "2023-01-03T15:54:25.905993",
     "status": "completed"
    },
    "tags": []
   },
   "source": [
    "# Resampling"
   ]
  },
  {
   "cell_type": "code",
   "execution_count": 17,
   "id": "f775f76e",
   "metadata": {
    "execution": {
     "iopub.execute_input": "2023-01-03T15:54:25.948762Z",
     "iopub.status.busy": "2023-01-03T15:54:25.948360Z",
     "iopub.status.idle": "2023-01-03T15:54:25.956234Z",
     "shell.execute_reply": "2023-01-03T15:54:25.955196Z"
    },
    "executionInfo": {
     "elapsed": 353,
     "status": "ok",
     "timestamp": 1660217740873,
     "user": {
      "displayName": "Saddam Sinatrya Jalu Mukti",
      "userId": "05778708341325733322"
     },
     "user_tz": -420
    },
    "id": "OdpwhgX7nPFq",
    "outputId": "2805e95b-244f-4144-adcd-67592ded38d5",
    "papermill": {
     "duration": 0.02526,
     "end_time": "2023-01-03T15:54:25.958563",
     "exception": false,
     "start_time": "2023-01-03T15:54:25.933303",
     "status": "completed"
    },
    "tags": []
   },
   "outputs": [
    {
     "data": {
      "text/plain": [
       "JABE (JOURNAL OF ACCOUNTING AND BUSINESS EDUCATION)    5\n",
       "Jurnal Ekonomi dan Studi Pembangunan                   3\n",
       "Jurnal Pendidikan Sejarah Indonesia                    2\n",
       "Jurnal Kajian Matematika dan Aplikasinya (JKMA)        2\n",
       "JURNAL TEKNIK MESIN DAN PEMBELAJARAN                   1\n",
       "Buletin Konseling Inovatif                             1\n",
       "Name: jurnal, dtype: int64"
      ]
     },
     "execution_count": 17,
     "metadata": {},
     "output_type": "execute_result"
    }
   ],
   "source": [
    "y_train.value_counts()"
   ]
  },
  {
   "cell_type": "code",
   "execution_count": 18,
   "id": "99446c60",
   "metadata": {
    "execution": {
     "iopub.execute_input": "2023-01-03T15:54:25.988014Z",
     "iopub.status.busy": "2023-01-03T15:54:25.987640Z",
     "iopub.status.idle": "2023-01-03T15:54:25.991484Z",
     "shell.execute_reply": "2023-01-03T15:54:25.990732Z"
    },
    "executionInfo": {
     "elapsed": 2477,
     "status": "ok",
     "timestamp": 1660217790082,
     "user": {
      "displayName": "Saddam Sinatrya Jalu Mukti",
      "userId": "05778708341325733322"
     },
     "user_tz": -420
    },
    "id": "WkLvTnpflyx7",
    "papermill": {
     "duration": 0.020861,
     "end_time": "2023-01-03T15:54:25.993389",
     "exception": false,
     "start_time": "2023-01-03T15:54:25.972528",
     "status": "completed"
    },
    "tags": []
   },
   "outputs": [],
   "source": [
    "# from imblearn.over_sampling import SMOTE\n",
    "\n",
    "# X_train_resampled, y_train_resampled = SMOTE(random_state=42).fit_resample(X_train_vectors_tfidf, y_train)"
   ]
  },
  {
   "cell_type": "code",
   "execution_count": 19,
   "id": "b88f8a67",
   "metadata": {
    "execution": {
     "iopub.execute_input": "2023-01-03T15:54:26.022654Z",
     "iopub.status.busy": "2023-01-03T15:54:26.022241Z",
     "iopub.status.idle": "2023-01-03T15:54:26.027050Z",
     "shell.execute_reply": "2023-01-03T15:54:26.026005Z"
    },
    "papermill": {
     "duration": 0.022064,
     "end_time": "2023-01-03T15:54:26.029222",
     "exception": false,
     "start_time": "2023-01-03T15:54:26.007158",
     "status": "completed"
    },
    "tags": []
   },
   "outputs": [],
   "source": [
    "X_train_resampled, y_train_resampled = X_train_vectors_tfidf, y_train"
   ]
  },
  {
   "cell_type": "code",
   "execution_count": 20,
   "id": "2541a20f",
   "metadata": {
    "execution": {
     "iopub.execute_input": "2023-01-03T15:54:26.058466Z",
     "iopub.status.busy": "2023-01-03T15:54:26.058089Z",
     "iopub.status.idle": "2023-01-03T15:54:26.066159Z",
     "shell.execute_reply": "2023-01-03T15:54:26.065060Z"
    },
    "executionInfo": {
     "elapsed": 2,
     "status": "ok",
     "timestamp": 1660217792326,
     "user": {
      "displayName": "Saddam Sinatrya Jalu Mukti",
      "userId": "05778708341325733322"
     },
     "user_tz": -420
    },
    "id": "PhgoTfWVn_26",
    "outputId": "22ad11f1-d017-4209-f88d-b8cdf93ffe3d",
    "papermill": {
     "duration": 0.025334,
     "end_time": "2023-01-03T15:54:26.068351",
     "exception": false,
     "start_time": "2023-01-03T15:54:26.043017",
     "status": "completed"
    },
    "tags": []
   },
   "outputs": [
    {
     "data": {
      "text/plain": [
       "JABE (JOURNAL OF ACCOUNTING AND BUSINESS EDUCATION)    5\n",
       "Jurnal Ekonomi dan Studi Pembangunan                   3\n",
       "Jurnal Pendidikan Sejarah Indonesia                    2\n",
       "Jurnal Kajian Matematika dan Aplikasinya (JKMA)        2\n",
       "JURNAL TEKNIK MESIN DAN PEMBELAJARAN                   1\n",
       "Buletin Konseling Inovatif                             1\n",
       "Name: jurnal, dtype: int64"
      ]
     },
     "execution_count": 20,
     "metadata": {},
     "output_type": "execute_result"
    }
   ],
   "source": [
    "y_train_resampled.value_counts()"
   ]
  },
  {
   "cell_type": "markdown",
   "id": "1fc16a06",
   "metadata": {
    "id": "CltZrOoDqwef",
    "papermill": {
     "duration": 0.013689,
     "end_time": "2023-01-03T15:54:26.096189",
     "exception": false,
     "start_time": "2023-01-03T15:54:26.082500",
     "status": "completed"
    },
    "tags": []
   },
   "source": [
    "# Training model"
   ]
  },
  {
   "cell_type": "code",
   "execution_count": 21,
   "id": "59abb74e",
   "metadata": {
    "execution": {
     "iopub.execute_input": "2023-01-03T15:54:26.125541Z",
     "iopub.status.busy": "2023-01-03T15:54:26.125152Z",
     "iopub.status.idle": "2023-01-03T15:54:26.146509Z",
     "shell.execute_reply": "2023-01-03T15:54:26.145303Z"
    },
    "executionInfo": {
     "elapsed": 507887,
     "status": "ok",
     "timestamp": 1660218571699,
     "user": {
      "displayName": "Saddam Sinatrya Jalu Mukti",
      "userId": "05778708341325733322"
     },
     "user_tz": -420
    },
    "id": "r7KQsXCJsS9C",
    "outputId": "26389903-301e-4cf0-8be2-acdb35fc8f18",
    "papermill": {
     "duration": 0.038801,
     "end_time": "2023-01-03T15:54:26.148824",
     "exception": false,
     "start_time": "2023-01-03T15:54:26.110023",
     "status": "completed"
    },
    "tags": []
   },
   "outputs": [
    {
     "name": "stdout",
     "output_type": "stream",
     "text": [
      "Accuracy score :  0.16666666666666666\n",
      "Precision score :  0.027777777777777776\n",
      "Recall score :  0.16666666666666666\n",
      "F1 score :  0.047619047619047616\n"
     ]
    },
    {
     "name": "stderr",
     "output_type": "stream",
     "text": [
      "/opt/conda/lib/python3.7/site-packages/sklearn/metrics/_classification.py:1318: UndefinedMetricWarning: Precision is ill-defined and being set to 0.0 in labels with no predicted samples. Use `zero_division` parameter to control this behavior.\n",
      "  _warn_prf(average, modifier, msg_start, len(result))\n"
     ]
    }
   ],
   "source": [
    "from sklearn.svm import SVC\n",
    "from sklearn.metrics import accuracy_score, precision_score, recall_score, f1_score\n",
    "\n",
    "clf = SVC(kernel='rbf')\n",
    "clf.fit(X_train_resampled, y_train_resampled)\n",
    "\n",
    "y_pred = clf.predict(X_test_vectors_tfidf)\n",
    "\n",
    "print('Accuracy score : ', accuracy_score(y_test, y_pred))\n",
    "print('Precision score : ', precision_score(y_test, y_pred, average='weighted'))\n",
    "print('Recall score : ', recall_score(y_test, y_pred, average='weighted'))\n",
    "print('F1 score : ', f1_score(y_test, y_pred, average='weighted'))"
   ]
  },
  {
   "cell_type": "code",
   "execution_count": 22,
   "id": "0f7b0d5c",
   "metadata": {
    "execution": {
     "iopub.execute_input": "2023-01-03T15:54:26.178521Z",
     "iopub.status.busy": "2023-01-03T15:54:26.178133Z",
     "iopub.status.idle": "2023-01-03T15:54:26.494606Z",
     "shell.execute_reply": "2023-01-03T15:54:26.493521Z"
    },
    "executionInfo": {
     "elapsed": 1848,
     "status": "ok",
     "timestamp": 1660219331491,
     "user": {
      "displayName": "Saddam Sinatrya Jalu Mukti",
      "userId": "05778708341325733322"
     },
     "user_tz": -420
    },
    "id": "GOe_2_krwn4C",
    "outputId": "b1f6710e-9879-48da-d5af-bd9603a001c6",
    "papermill": {
     "duration": 0.333927,
     "end_time": "2023-01-03T15:54:26.496882",
     "exception": false,
     "start_time": "2023-01-03T15:54:26.162955",
     "status": "completed"
    },
    "tags": []
   },
   "outputs": [
    {
     "data": {
      "image/png": "[encoded data removed]",
      "text/plain": [
       "<Figure size 432x288 with 2 Axes>"
      ]
     },
     "metadata": {
      "needs_background": "light"
     },
     "output_type": "display_data"
    }
   ],
   "source": [
    "from sklearn.metrics import ConfusionMatrixDisplay\n",
    "from matplotlib import pyplot as plt\n",
    "\n",
    "ConfusionMatrixDisplay.from_predictions(y_test, y_pred, cmap='Blues')\n",
    "plt.show()"
   ]
  },
  {
   "cell_type": "code",
   "execution_count": 23,
   "id": "204a76e9",
   "metadata": {
    "execution": {
     "iopub.execute_input": "2023-01-03T15:54:26.527962Z",
     "iopub.status.busy": "2023-01-03T15:54:26.527572Z",
     "iopub.status.idle": "2023-01-03T15:54:26.541026Z",
     "shell.execute_reply": "2023-01-03T15:54:26.539703Z"
    },
    "executionInfo": {
     "elapsed": 1765,
     "status": "ok",
     "timestamp": 1660219038559,
     "user": {
      "displayName": "Saddam Sinatrya Jalu Mukti",
      "userId": "05778708341325733322"
     },
     "user_tz": -420
    },
    "id": "Ufjp-aA6woMl",
    "outputId": "bf1d8b28-cace-47cb-d200-4791b623d673",
    "papermill": {
     "duration": 0.031478,
     "end_time": "2023-01-03T15:54:26.543210",
     "exception": false,
     "start_time": "2023-01-03T15:54:26.511732",
     "status": "completed"
    },
    "tags": []
   },
   "outputs": [
    {
     "name": "stdout",
     "output_type": "stream",
     "text": [
      "                                                     precision    recall  f1-score   support\n",
      "\n",
      "                         Buletin Konseling Inovatif       0.00      0.00      0.00         1\n",
      "JABE (JOURNAL OF ACCOUNTING AND BUSINESS EDUCATION)       0.17      1.00      0.29         1\n",
      "               JURNAL TEKNIK MESIN DAN PEMBELAJARAN       0.00      0.00      0.00         1\n",
      "               Jurnal Ekonomi dan Studi Pembangunan       0.00      0.00      0.00         3\n",
      "\n",
      "                                           accuracy                           0.17         6\n",
      "                                          macro avg       0.04      0.25      0.07         6\n",
      "                                       weighted avg       0.03      0.17      0.05         6\n",
      "\n"
     ]
    },
    {
     "name": "stderr",
     "output_type": "stream",
     "text": [
      "/opt/conda/lib/python3.7/site-packages/sklearn/metrics/_classification.py:1318: UndefinedMetricWarning: Precision and F-score are ill-defined and being set to 0.0 in labels with no predicted samples. Use `zero_division` parameter to control this behavior.\n",
      "  _warn_prf(average, modifier, msg_start, len(result))\n",
      "/opt/conda/lib/python3.7/site-packages/sklearn/metrics/_classification.py:1318: UndefinedMetricWarning: Precision and F-score are ill-defined and being set to 0.0 in labels with no predicted samples. Use `zero_division` parameter to control this behavior.\n",
      "  _warn_prf(average, modifier, msg_start, len(result))\n",
      "/opt/conda/lib/python3.7/site-packages/sklearn/metrics/_classification.py:1318: UndefinedMetricWarning: Precision and F-score are ill-defined and being set to 0.0 in labels with no predicted samples. Use `zero_division` parameter to control this behavior.\n",
      "  _warn_prf(average, modifier, msg_start, len(result))\n"
     ]
    }
   ],
   "source": [
    "from sklearn.metrics import classification_report\n",
    "\n",
    "print(classification_report(y_test, y_pred))"
   ]
  },
  {
   "cell_type": "markdown",
   "id": "426a9c6e",
   "metadata": {
    "papermill": {
     "duration": 0.014511,
     "end_time": "2023-01-03T15:54:26.572811",
     "exception": false,
     "start_time": "2023-01-03T15:54:26.558300",
     "status": "completed"
    },
    "tags": []
   },
   "source": [
    "# Export model"
   ]
  },
  {
   "cell_type": "code",
   "execution_count": 24,
   "id": "d2b14c08",
   "metadata": {
    "execution": {
     "iopub.execute_input": "2023-01-03T15:54:26.604336Z",
     "iopub.status.busy": "2023-01-03T15:54:26.603371Z",
     "iopub.status.idle": "2023-01-03T15:54:26.609482Z",
     "shell.execute_reply": "2023-01-03T15:54:26.608730Z"
    },
    "papermill": {
     "duration": 0.025116,
     "end_time": "2023-01-03T15:54:26.612619",
     "exception": false,
     "start_time": "2023-01-03T15:54:26.587503",
     "status": "completed"
    },
    "tags": []
   },
   "outputs": [],
   "source": [
    "import pickle\n",
    "\n",
    "with open('model.pkl', 'wb') as f:\n",
    "    pickle.dump(clf, f)"
   ]
  },
  {
   "cell_type": "markdown",
   "id": "1dc2fcd7",
   "metadata": {
    "id": "Kj1lvdfmeBUI",
    "papermill": {
     "duration": 0.014604,
     "end_time": "2023-01-03T15:54:26.647175",
     "exception": false,
     "start_time": "2023-01-03T15:54:26.632571",
     "status": "completed"
    },
    "tags": []
   },
   "source": [
    "# Export data"
   ]
  },
  {
   "cell_type": "code",
   "execution_count": 25,
   "id": "9e50c7ff",
   "metadata": {
    "execution": {
     "iopub.execute_input": "2023-01-03T15:54:26.679081Z",
     "iopub.status.busy": "2023-01-03T15:54:26.678255Z",
     "iopub.status.idle": "2023-01-03T15:54:26.688082Z",
     "shell.execute_reply": "2023-01-03T15:54:26.687318Z"
    },
    "executionInfo": {
     "elapsed": 716,
     "status": "ok",
     "timestamp": 1660214173811,
     "user": {
      "displayName": "Saddam Sinatrya Jalu Mukti",
      "userId": "05778708341325733322"
     },
     "user_tz": -420
    },
    "id": "DJbcTCcXRAxh",
    "papermill": {
     "duration": 0.027904,
     "end_time": "2023-01-03T15:54:26.690230",
     "exception": false,
     "start_time": "2023-01-03T15:54:26.662326",
     "status": "completed"
    },
    "tags": []
   },
   "outputs": [],
   "source": [
    "df.to_csv('data.csv')"
   ]
  }
 ],
 "metadata": {
  "kernelspec": {
   "display_name": "Python 3",
   "language": "python",
   "name": "python3"
  },
  "language_info": {
   "codemirror_mode": {
    "name": "ipython",
    "version": 3
   },
   "file_extension": ".py",
   "mimetype": "text/x-python",
   "name": "python",
   "nbconvert_exporter": "python",
   "pygments_lexer": "ipython3",
   "version": "3.7.12"
  },
  "papermill": {
   "default_parameters": {},
   "duration": 50.221566,
   "end_time": "2023-01-03T15:54:27.628096",
   "environment_variables": {},
   "exception": null,
   "input_path": "__notebook__.ipynb",
   "output_path": "__notebook__.ipynb",
   "parameters": {},
   "start_time": "2023-01-03T15:53:37.406530",
   "version": "2.3.4"
  }
 },
 "nbformat": 4,
 "nbformat_minor": 5
}
